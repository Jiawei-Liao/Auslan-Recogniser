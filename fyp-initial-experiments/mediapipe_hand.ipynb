{
 "cells": [
  {
   "cell_type": "code",
   "execution_count": null,
   "outputs": [],
   "source": [
    "import mediapipe as mp\n",
    "import cv2\n",
    "import numpy as np\n",
    "import uuid\n",
    "import os\n",
    "\n",
    "from mediapipe.python.solutions.hands import HandLandmark"
   ],
   "metadata": {
    "collapsed": false
   },
   "id": "9b5fe8aed7e94025"
  },
  {
   "cell_type": "code",
   "execution_count": null,
   "outputs": [],
   "source": [
    "mp_drawing = mp.solutions.drawing_utils # easier to render\n",
    "mp_hands = mp.solutions.hands # hand model"
   ],
   "metadata": {
    "collapsed": false
   },
   "id": "8494abeda48a993d"
  },
  {
   "cell_type": "code",
   "execution_count": null,
   "outputs": [],
   "source": [
    "os.mkdir('../Output Images')"
   ],
   "metadata": {
    "collapsed": false
   },
   "id": "80319778d8818d19"
  },
  {
   "cell_type": "code",
   "execution_count": null,
   "outputs": [],
   "source": [
    "cap = cv2.VideoCapture(0)\n",
    "\n",
    "with mp_hands.Hands(min_detection_confidence=0.8 , min_tracking_confidence=0.5) as hands:\n",
    "    while cap.isOpened():\n",
    "        ret, frame = cap.read() # frame is the image\n",
    "        \n",
    "        # BGR 2 RGB\n",
    "        image = cv2.cvtColor(frame, cv2.COLOR_BGR2RGB) # recolour the image BGR -> RGB\n",
    "        image.flags.writeable = False\n",
    "        \n",
    "        # Detections\n",
    "        results = hands.process(image)\n",
    "        image.flags.writeable = True\n",
    "        \n",
    "        # RGB 2 BGR\n",
    "        image = cv2.cvtColor(image, cv2.COLOR_RGB2BGR)\n",
    "        \n",
    "        print(results)\n",
    "        \n",
    "        # rendering results\n",
    "        if results.multi_hand_landmarks:  # check if anything in there\n",
    "            for num, hand in enumerate(results.multi_hand_landmarks):  # loop through each result\n",
    "                mp_drawing.draw_landmarks(image, hand, mp_hands.HAND_CONNECTIONS,\n",
    "                                          mp_drawing.DrawingSpec(color=(121, 22, 76), thickness=4, circle_radius=4),\n",
    "                                          mp_drawing.DrawingSpec(color=(121, 44, 250), thickness=4, circle_radius=2)\n",
    "                                          )\n",
    "\n",
    "        cv2.imwrite(os.path.join('../Output Images', '{}.jpg'.format(uuid.uuid1())), image)\n",
    "        cv2.imshow('Hand tracking', image)\n",
    "        \n",
    "        if cv2.waitKey(10) & 0xFF == ord('q'):\n",
    "            break\n",
    "cap.read()\n",
    "cv2.destroyAllWindows()"
   ],
   "metadata": {
    "collapsed": false
   },
   "id": "5b3a1078ed524267"
  },
  {
   "cell_type": "code",
   "execution_count": null,
   "outputs": [],
   "source": [
    "results.multi_hand_landmark"
   ],
   "metadata": {
    "collapsed": false
   },
   "id": "4dadbe5408fb1824"
  },
  {
   "cell_type": "markdown",
   "source": [
    "### 4. Detect Left and Right Hands"
   ],
   "metadata": {
    "collapsed": false
   },
   "id": "6747b5df17ed71dd"
  },
  {
   "cell_type": "code",
   "execution_count": null,
   "outputs": [],
   "source": [
    "results.multi_hand_landmarks[0].landmark[mp_hands.HandLandmark.WRIST]"
   ],
   "metadata": {
    "collapsed": false
   },
   "id": "c44467bef8b39f53"
  },
  {
   "cell_type": "code",
   "execution_count": null,
   "outputs": [],
   "source": [
    "results.multi_handedness"
   ],
   "metadata": {
    "collapsed": false
   },
   "id": "9db62ee30ef3fe6b"
  },
  {
   "cell_type": "code",
   "execution_count": null,
   "outputs": [],
   "source": [
    "def get_label(index, hand, results):\n",
    "    output = None\n",
    "    for idx, classification in enumerate(results.multi_handedness):\n",
    "        if classification.classification[0].index == index:\n",
    "            label = classification.classification[0].label\n",
    "            score = classification.classification[0].score\n",
    "            text = '{} {}'.format(label, round(score,2))\n",
    "            \n",
    "            # extracting coordinates\n",
    "            coords = tuple(np.multiply(\n",
    "                    np.array(\n",
    "                        (\n",
    "                         hand.landmark[mp_hands.HandLandmark.WRIST].x,\n",
    "                          hand.landmark[mp_hands.HandLandmark.WRIST].y\n",
    "                        ))\n",
    "                [640, 480]).astype(int)) \n",
    "            output = text, coords\n",
    "    return output"
   ],
   "metadata": {
    "collapsed": false
   },
   "id": "f314e8ea4a8e85fa"
  }
 ],
 "metadata": {
  "kernelspec": {
   "display_name": "Python 3",
   "language": "python",
   "name": "python3"
  },
  "language_info": {
   "codemirror_mode": {
    "name": "ipython",
    "version": 2
   },
   "file_extension": ".py",
   "mimetype": "text/x-python",
   "name": "python",
   "nbconvert_exporter": "python",
   "pygments_lexer": "ipython2",
   "version": "2.7.6"
  }
 },
 "nbformat": 4,
 "nbformat_minor": 5
}
